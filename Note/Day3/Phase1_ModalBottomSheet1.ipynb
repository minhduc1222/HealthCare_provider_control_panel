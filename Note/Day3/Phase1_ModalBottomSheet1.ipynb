{
 "cells": [
  {
   "cell_type": "markdown",
   "metadata": {},
   "source": [
    "Tom tat\n",
    "    ModalBottomSheet va cac khai niem\n",
    "        + BuildContext\n",
    "            + Widget tree\n",
    "        + Context\n",
    "            + Accessing Ancestor Context\n",
    "            + Inherited Widget cho phep context truy cap o bat ki dau\n",
    "            "
   ]
  },
  {
   "cell_type": "markdown",
   "metadata": {},
   "source": [
    "# Phase 1: ModalBottomSheet shown up\n",
    "    _ Khai niem context\n",
    "        BuildContext represents a widget’s location in the tree.\n",
    "        context is an instance of BuildContext used for navigation, accessing themes, and showing dialogs.\n",
    "        \n"
   ]
  },
  {
   "cell_type": "markdown",
   "metadata": {},
   "source": [
    "Widget Location tree\n",
    "\n",
    "MaterialApp\n",
    " └── Scaffold\n",
    "     ├── AppBar\n",
    "     │   └── Text(\"Widget Tree\")\n",
    "     └── Center\n",
    "         └── Column\n",
    "             ├── Text(\"Hello\")\n",
    "             └── ElevatedButton\n",
    "                 └── Text(\"Click Me\")\n"
   ]
  },
  {
   "cell_type": "markdown",
   "metadata": {},
   "source": [
    "Each widget in this tree has a BuildContext, which is like its \"address\" in the tree.\n",
    "\n",
    "Allow it to\n",
    "    Find ancestor widgets (e.g., Theme, MediaQuery).\n",
    "    Find child widgets (e.g., accessing elements in a Column).\n",
    "    Communicate with other parts of the app (e.g., navigation)."
   ]
  },
  {
   "cell_type": "markdown",
   "metadata": {},
   "source": [
    "# Example\n",
    "# Accessing Ancestor Widgets with context\n",
    "\n",
    "MaterialApp (Theme widget)\n",
    " └── Scaffold\n",
    "     └── Center\n",
    "         └── Text(\"Hello\")  <- Needs to find Theme from above\n",
    "\n",
    "Text(\n",
    "  \"Hello\",\n",
    "  style: Theme.of(context).textTheme.headline6, // Finds the nearest Theme ancestor\n",
    ")\n",
    "\n",
    "Theme.of(context) walks up the tree to find the Theme widget."
   ]
  },
  {
   "cell_type": "markdown",
   "metadata": {},
   "source": [
    "But a widget cannot access ancestors if the context is below them in the tree\n",
    "\n",
    "class MyScreen extends StatelessWidget {\n",
    "  @override\n",
    "  Widget build(BuildContext context) {\n",
    "    return Scaffold(\n",
    "      appBar: AppBar(title: Text(\"Error Example\")),\n",
    "      body: Column(\n",
    "        children: [\n",
    "          ElevatedButton(\n",
    "            onPressed: () {\n",
    "              Scaffold.of(context).showSnackBar(\n",
    "                SnackBar(content: Text(\"Hello\")),\n",
    "              );\n",
    "            },\n",
    "            child: Text(\"Show SnackBar\"),\n",
    "          ),\n",
    "        ],\n",
    "      ),\n",
    "    );\n",
    "  }\n",
    "}\n"
   ]
  },
  {
   "cell_type": "markdown",
   "metadata": {},
   "source": [
    "Scaffold.of(context) does not work because context is inside Column, which hasn't reached Scaffold yet."
   ]
  },
  {
   "cell_type": "markdown",
   "metadata": {},
   "source": [
    "Nhung\n",
    "widget tổ tiên nằm  ở trên cùng, và rõ ràng theme.of(context) ko hề đc khai báo bên trong widget theme\n",
    "\n",
    "    MaterialApp (Theme widget)\n",
    "    └── Scaffold *\n",
    "        └── Center\n",
    "            └── Text(\"Hello\")  <- Needs to find Theme from above\n",
    "\n",
    "    Text(\n",
    "    \"Hello\",\n",
    "    style: Theme.of(context).textTheme.headline6, // Finds the nearest Theme ancestor\n",
    "    )\n",
    "\n",
    "tại sao vẫn đc \n",
    "\n",
    "\n",
    "mà scaffold.of(contexxt) cũng ko hề ddc khai báo bên trong scaffold widget \n",
    "\n",
    "    MaterialApp (Theme widget)\n",
    "        └── Scaffold *\n",
    "            └── Column\n",
    "                └── ElevatedButton() <-\n",
    "\n",
    "    ElevatedButton(\n",
    "    onPressed: () {\n",
    "        Scaffold.of(context).showSnackBar(\n",
    "        SnackBar(content: Text(\"Hello\")),\n",
    "        );\n",
    "    },\n",
    "    child: Text(\"Show SnackBar\"),\n",
    "    ),\n",
    "\n",
    "mà lại ko đc?"
   ]
  },
  {
   "cell_type": "markdown",
   "metadata": {},
   "source": [
    "Do \n",
    "    Theme sử dụng InheritedWidget, có thể truy cập từ bất kỳ đâu.\n",
    "\n",
    "    Không giống Theme, Scaffold không phải là InheritedWidget, mà là một widget bình thường.\n",
    "     Nó không thể chia sẻ dữ liệu trực tiếp cho các widget con thông qua context.\n",
    "     Scaffold.of(context) không hoạt động nếu context chưa nằm bên trong Scaffold"
   ]
  }
 ],
 "metadata": {
  "language_info": {
   "name": "python"
  }
 },
 "nbformat": 4,
 "nbformat_minor": 2
}
