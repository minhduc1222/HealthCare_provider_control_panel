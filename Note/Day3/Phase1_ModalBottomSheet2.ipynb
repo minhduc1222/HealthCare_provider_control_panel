{
 "cells": [
  {
   "cell_type": "markdown",
   "metadata": {},
   "source": [
    "Tom tat...\n",
    "    _ builder?\n",
    "    _ ScaffoldMessenger.of thay cho Scaffold.of\n",
    "    _ Truy cap context cua Scaffold giup gi"
   ]
  },
  {
   "cell_type": "markdown",
   "metadata": {},
   "source": [
    "Sao phai can builder\n"
   ]
  },
  {
   "cell_type": "markdown",
   "metadata": {},
   "source": [
    "Instead of this\n",
    "\n",
    "class MyScreen extends StatelessWidget {\n",
    "  @override\n",
    "  Widget build(BuildContext context) {\n",
    "    return Scaffold(\n",
    "      appBar: AppBar(title: Text(\"Error Example\")),\n",
    "      body: Column(\n",
    "        children: [\n",
    "          ElevatedButton(\n",
    "            onPressed: () {\n",
    "              Scaffold.of(context).showSnackBar(\n",
    "                SnackBar(content: Text(\"Hello\")),\n",
    "              );\n",
    "            },\n",
    "            child: Text(\"Show SnackBar\"),\n",
    "          ),\n",
    "        ],\n",
    "      ),\n",
    "    );\n",
    "  }\n",
    "}\n"
   ]
  },
  {
   "cell_type": "markdown",
   "metadata": {},
   "source": [
    "Use builder\n",
    "\n",
    "class MyScreen extends StatelessWidget {\n",
    "  @override\n",
    "  Widget build(BuildContext context) {\n",
    "    return Scaffold(\n",
    "      appBar: AppBar(title: Text(\"Correct Example\")),\n",
    "      body: Builder( // Creates a new context inside Scaffold\n",
    "        builder: (BuildContext newcontext) {\n",
    "          return ElevatedButton(\n",
    "            onPressed: () {\n",
    "              ScaffoldMessenger.of(newcontext).showSnackBar(\n",
    "                SnackBar(content: Text(\"Hello\")),\n",
    "              );\n",
    "            },\n",
    "            child: Text(\"Show SnackBar\"),\n",
    "          );\n",
    "        },\n",
    "      ),\n",
    "    );\n",
    "  }\n",
    "}\n"
   ]
  },
  {
   "cell_type": "markdown",
   "metadata": {},
   "source": [
    "Here, Builder creates a new context and that newcontext can access context within Scaffold\n",
    "\n",
    "ScaffoldMessenger.of(context).showSnackBar() là cách mới để hiển thị SnackBar, hoạt động ngay cả khi context (newcontext) không thuộc Scaffold."
   ]
  },
  {
   "cell_type": "markdown",
   "metadata": {},
   "source": [
    "📌 Việc truy cập context của Scaffold giúp gì?\n",
    "\n",
    "Truy cập context của Scaffold cho phép bạn sử dụng các chức năng của Scaffold từ bên trong widget con. Một số chức năng phổ biến bao gồm:\n",
    "\n",
    "    Hiển thị SnackBar (Thông báo tạm thời ở dưới màn hình).\n",
    "\n",
    "    Mở Drawer (Menu điều hướng bên trái/phải).\n",
    "    \n",
    "    Hiển thị BottomSheet (Bảng hiển thị từ dưới lên)."
   ]
  }
 ],
 "metadata": {
  "language_info": {
   "name": "python"
  }
 },
 "nbformat": 4,
 "nbformat_minor": 2
}
